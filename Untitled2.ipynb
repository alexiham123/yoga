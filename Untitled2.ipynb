{
  "nbformat": 4,
  "nbformat_minor": 0,
  "metadata": {
    "colab": {
      "provenance": [],
      "authorship_tag": "ABX9TyMud/2QzamG9w/n5mAJCJm0",
      "include_colab_link": true
    },
    "kernelspec": {
      "name": "python3",
      "display_name": "Python 3"
    },
    "language_info": {
      "name": "python"
    }
  },
  "cells": [
    {
      "cell_type": "markdown",
      "metadata": {
        "id": "view-in-github",
        "colab_type": "text"
      },
      "source": [
        "<a href=\"https://colab.research.google.com/github/alexiham123/yoga/blob/main/Untitled2.ipynb\" target=\"_parent\"><img src=\"https://colab.research.google.com/assets/colab-badge.svg\" alt=\"Open In Colab\"/></a>"
      ]
    },
    {
      "cell_type": "code",
      "execution_count": 1,
      "metadata": {
        "id": "-AJMZXcvtlTj"
      },
      "outputs": [],
      "source": [
        "import pandas as pd\n",
        "\n",
        "last_names = ['Connor', 'Connor', 'Reese']\n",
        "midle_names = ['Alex', 'Connor', 'Reese']\n",
        "first_names = ['Sarah', 'John', 'Kyle']\n",
        "df = pd.DataFrame({\n",
        "  'first_name': first_names,\n",
        "  'Middle_name': first_names,\n",
        "  'last_name': last_names,\n",
        "})\n",
        "df\n",
        "\n",
        "x=[1,2,3,4,5]\n",
        "y=[2,3,4,5,6]\n",
        "\n",
        "df1 = pd.DataFrame({\n",
        "    'x_value': x,\n",
        "    'y_value': y,\n",
        "})\n",
        "df1\n",
        "\n",
        "df.to_csv(\"df.csv\", index = False)"
      ]
    },
    {
      "cell_type": "code",
      "source": [],
      "metadata": {
        "id": "SmySa4RItmeC"
      },
      "execution_count": null,
      "outputs": []
    }
  ]
}